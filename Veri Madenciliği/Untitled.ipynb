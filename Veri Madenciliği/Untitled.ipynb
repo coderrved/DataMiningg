{
 "cells": [
  {
   "cell_type": "code",
   "execution_count": 129,
   "metadata": {},
   "outputs": [],
   "source": [
    "import numpy as np\n",
    "import pandas as pd\n",
    "import seaborn as sns\n",
    "from sklearn.model_selection import train_test_split,GridSearchCV\n",
    "from sklearn.metrics import mean_squared_error, r2_score\n",
    "import matplotlib.pyplot as plt\n",
    "from sklearn.preprocessing import scale\n",
    "from sklearn.preprocessing import StandardScaler\n",
    "from sklearn import model_selection\n",
    "from sklearn.linear_model import LinearRegression\n",
    "from sklearn.tree import DecisionTreeRegressor\n",
    "from sklearn.neighbors import KNeighborsRegressor\n",
    "from sklearn.neural_network import MLPRegressor\n",
    "from sklearn.ensemble import RandomForestRegressor\n",
    "from sklearn.ensemble import GradientBoostingRegressor\n",
    "from sklearn import neighbors\n",
    "from sklearn.svm import SVR"
   ]
  },
  {
   "cell_type": "code",
   "execution_count": 130,
   "metadata": {},
   "outputs": [],
   "source": [
    "veri=pd.read_csv((\"Catalogue.csv\"), engine='python',sep=',',error_bad_lines=False)"
   ]
  },
  {
   "cell_type": "code",
   "execution_count": 131,
   "metadata": {},
   "outputs": [
    {
     "data": {
      "text/plain": [
       "(5596, 15)"
      ]
     },
     "execution_count": 131,
     "metadata": {},
     "output_type": "execute_result"
    }
   ],
   "source": [
    "veri.shape"
   ]
  },
  {
   "cell_type": "code",
   "execution_count": 132,
   "metadata": {},
   "outputs": [
    {
     "data": {
      "text/html": [
       "<div>\n",
       "<style scoped>\n",
       "    .dataframe tbody tr th:only-of-type {\n",
       "        vertical-align: middle;\n",
       "    }\n",
       "\n",
       "    .dataframe tbody tr th {\n",
       "        vertical-align: top;\n",
       "    }\n",
       "\n",
       "    .dataframe thead th {\n",
       "        text-align: right;\n",
       "    }\n",
       "</style>\n",
       "<table border=\"1\" class=\"dataframe\">\n",
       "  <thead>\n",
       "    <tr style=\"text-align: right;\">\n",
       "      <th></th>\n",
       "      <th>No</th>\n",
       "      <th>Zaman (UTC)</th>\n",
       "      <th>Ref1</th>\n",
       "      <th>Kaynak Aç?klama 1</th>\n",
       "      <th>Enlem</th>\n",
       "      <th>Boylam</th>\n",
       "      <th>Derinlik</th>\n",
       "      <th>Sabit Derinlik</th>\n",
       "      <th>Kaynak No 2</th>\n",
       "      <th>Kaynak Aç?klama 2</th>\n",
       "      <th>Tip</th>\n",
       "      <th>Büyüklük</th>\n",
       "      <th>Kaynak No 3</th>\n",
       "      <th>Kaynak Aç?klama 3</th>\n",
       "      <th>Yer</th>\n",
       "    </tr>\n",
       "  </thead>\n",
       "  <tbody>\n",
       "    <tr>\n",
       "      <td>0</td>\n",
       "      <td>0</td>\n",
       "      <td>2020-11-09 20:30:59</td>\n",
       "      <td>0</td>\n",
       "      <td></td>\n",
       "      <td>37.8720</td>\n",
       "      <td>26.9730</td>\n",
       "      <td>6.98</td>\n",
       "      <td>-</td>\n",
       "      <td>7</td>\n",
       "      <td>AFAD-DDA</td>\n",
       "      <td>Mw</td>\n",
       "      <td>4.2</td>\n",
       "      <td>7</td>\n",
       "      <td>AFAD-DDA</td>\n",
       "      <td>-</td>\n",
       "    </tr>\n",
       "    <tr>\n",
       "      <td>1</td>\n",
       "      <td>0</td>\n",
       "      <td>2020-11-08 09:22:54</td>\n",
       "      <td>0</td>\n",
       "      <td></td>\n",
       "      <td>39.3793</td>\n",
       "      <td>40.7516</td>\n",
       "      <td>9.15</td>\n",
       "      <td>-</td>\n",
       "      <td>7</td>\n",
       "      <td>AFAD-DDA</td>\n",
       "      <td>ML</td>\n",
       "      <td>4.2</td>\n",
       "      <td>7</td>\n",
       "      <td>AFAD-DDA</td>\n",
       "      <td>-</td>\n",
       "    </tr>\n",
       "    <tr>\n",
       "      <td>2</td>\n",
       "      <td>0</td>\n",
       "      <td>2020-11-04 02:24:17</td>\n",
       "      <td>0</td>\n",
       "      <td></td>\n",
       "      <td>37.7753</td>\n",
       "      <td>27.0506</td>\n",
       "      <td>7.98</td>\n",
       "      <td>-</td>\n",
       "      <td>7</td>\n",
       "      <td>AFAD-DDA</td>\n",
       "      <td>Mw</td>\n",
       "      <td>4.0</td>\n",
       "      <td>7</td>\n",
       "      <td>AFAD-DDA</td>\n",
       "      <td>-</td>\n",
       "    </tr>\n",
       "    <tr>\n",
       "      <td>3</td>\n",
       "      <td>0</td>\n",
       "      <td>2020-11-03 20:35:37</td>\n",
       "      <td>0</td>\n",
       "      <td></td>\n",
       "      <td>37.9090</td>\n",
       "      <td>26.4931</td>\n",
       "      <td>16.05</td>\n",
       "      <td>-</td>\n",
       "      <td>7</td>\n",
       "      <td>AFAD-DDA</td>\n",
       "      <td>Mw</td>\n",
       "      <td>4.1</td>\n",
       "      <td>7</td>\n",
       "      <td>AFAD-DDA</td>\n",
       "      <td>-</td>\n",
       "    </tr>\n",
       "    <tr>\n",
       "      <td>4</td>\n",
       "      <td>0</td>\n",
       "      <td>2020-11-02 19:16:40</td>\n",
       "      <td>0</td>\n",
       "      <td></td>\n",
       "      <td>37.9133</td>\n",
       "      <td>26.5003</td>\n",
       "      <td>6.85</td>\n",
       "      <td>-</td>\n",
       "      <td>7</td>\n",
       "      <td>AFAD-DDA</td>\n",
       "      <td>Mw</td>\n",
       "      <td>4.2</td>\n",
       "      <td>7</td>\n",
       "      <td>AFAD-DDA</td>\n",
       "      <td>-</td>\n",
       "    </tr>\n",
       "  </tbody>\n",
       "</table>\n",
       "</div>"
      ],
      "text/plain": [
       "   No          Zaman (UTC)  Ref1 Kaynak Aç?klama 1    Enlem   Boylam  \\\n",
       "0   0  2020-11-09 20:30:59     0                    37.8720  26.9730   \n",
       "1   0  2020-11-08 09:22:54     0                    39.3793  40.7516   \n",
       "2   0  2020-11-04 02:24:17     0                    37.7753  27.0506   \n",
       "3   0  2020-11-03 20:35:37     0                    37.9090  26.4931   \n",
       "4   0  2020-11-02 19:16:40     0                    37.9133  26.5003   \n",
       "\n",
       "   Derinlik Sabit Derinlik  Kaynak No 2 Kaynak Aç?klama 2 Tip  Büyüklük  \\\n",
       "0      6.98              -            7          AFAD-DDA  Mw       4.2   \n",
       "1      9.15              -            7          AFAD-DDA  ML       4.2   \n",
       "2      7.98              -            7          AFAD-DDA  Mw       4.0   \n",
       "3     16.05              -            7          AFAD-DDA  Mw       4.1   \n",
       "4      6.85              -            7          AFAD-DDA  Mw       4.2   \n",
       "\n",
       "   Kaynak No 3 Kaynak Aç?klama 3 Yer  \n",
       "0            7          AFAD-DDA   -  \n",
       "1            7          AFAD-DDA   -  \n",
       "2            7          AFAD-DDA   -  \n",
       "3            7          AFAD-DDA   -  \n",
       "4            7          AFAD-DDA   -  "
      ]
     },
     "execution_count": 132,
     "metadata": {},
     "output_type": "execute_result"
    }
   ],
   "source": [
    "veri.head()"
   ]
  },
  {
   "cell_type": "code",
   "execution_count": 133,
   "metadata": {},
   "outputs": [],
   "source": [
    "veri.drop(['Ref1','No', 'Zaman (UTC)','Kaynak Aç?klama 1','No','Sabit Derinlik','Kaynak No 2', 'Kaynak Aç?klama 2','Tip','Kaynak No 3','Kaynak Aç?klama 3','Yer'], axis = 1, inplace = True)"
   ]
  },
  {
   "cell_type": "code",
   "execution_count": 134,
   "metadata": {},
   "outputs": [
    {
     "data": {
      "text/plain": [
       "(5596, 4)"
      ]
     },
     "execution_count": 134,
     "metadata": {},
     "output_type": "execute_result"
    }
   ],
   "source": [
    "veri.shape"
   ]
  },
  {
   "cell_type": "code",
   "execution_count": 135,
   "metadata": {},
   "outputs": [
    {
     "name": "stdout",
     "output_type": "stream",
     "text": [
      "<class 'pandas.core.frame.DataFrame'>\n",
      "RangeIndex: 5596 entries, 0 to 5595\n",
      "Data columns (total 4 columns):\n",
      "Enlem       5596 non-null float64\n",
      "Boylam      5596 non-null float64\n",
      "Derinlik    5596 non-null float64\n",
      "Büyüklük    5596 non-null float64\n",
      "dtypes: float64(4)\n",
      "memory usage: 175.0 KB\n"
     ]
    }
   ],
   "source": [
    "veri.info()"
   ]
  },
  {
   "cell_type": "code",
   "execution_count": 136,
   "metadata": {},
   "outputs": [],
   "source": [
    "data_depth = veri[\"Derinlik\"]  "
   ]
  },
  {
   "cell_type": "code",
   "execution_count": 137,
   "metadata": {},
   "outputs": [
    {
     "data": {
      "text/plain": [
       "0     6.98\n",
       "1     9.15\n",
       "2     7.98\n",
       "3    16.05\n",
       "4     6.85\n",
       "Name: Derinlik, dtype: float64"
      ]
     },
     "execution_count": 137,
     "metadata": {},
     "output_type": "execute_result"
    }
   ],
   "source": [
    "data_depth.head()"
   ]
  },
  {
   "cell_type": "code",
   "execution_count": 138,
   "metadata": {},
   "outputs": [
    {
     "data": {
      "image/png": "[encoded data removed]",
      "text/plain": [
       "<Figure size 432x288 with 1 Axes>"
      ]
     },
     "metadata": {
      "needs_background": "light"
     },
     "output_type": "display_data"
    }
   ],
   "source": [
    "sns.boxplot(x = data_depth); "
   ]
  },
  {
   "cell_type": "code",
   "execution_count": 139,
   "metadata": {},
   "outputs": [
    {
     "data": {
      "text/plain": [
       "5596"
      ]
     },
     "execution_count": 139,
     "metadata": {},
     "output_type": "execute_result"
    }
   ],
   "source": [
    "len(data_depth)"
   ]
  },
  {
   "cell_type": "code",
   "execution_count": 140,
   "metadata": {},
   "outputs": [],
   "source": [
    "Q1 = data_depth.quantile(0.25)\n",
    "Q3 = data_depth.quantile(0.75)\n",
    "IQR = Q3 - Q1"
   ]
  },
  {
   "cell_type": "code",
   "execution_count": 141,
   "metadata": {},
   "outputs": [],
   "source": [
    "alt_sinir = Q1 - 1.5*IQR"
   ]
  },
  {
   "cell_type": "code",
   "execution_count": 142,
   "metadata": {},
   "outputs": [],
   "source": [
    "ust_sinir = Q3 + 1.5*IQR"
   ]
  },
  {
   "cell_type": "code",
   "execution_count": 143,
   "metadata": {},
   "outputs": [
    {
     "data": {
      "text/plain": [
       "65.0"
      ]
     },
     "execution_count": 143,
     "metadata": {},
     "output_type": "execute_result"
    }
   ],
   "source": [
    "ust_sinir"
   ]
  },
  {
   "cell_type": "code",
   "execution_count": 144,
   "metadata": {},
   "outputs": [],
   "source": [
    "aykiri_tf = (data_depth  > ust_sinir)"
   ]
  },
  {
   "cell_type": "code",
   "execution_count": 145,
   "metadata": {},
   "outputs": [
    {
     "data": {
      "text/plain": [
       "Int64Index([ 211,  278,  299,  352,  385,  504,  559,  603,  611,  669,\n",
       "            ...\n",
       "            5467, 5468, 5472, 5474, 5502, 5516, 5534, 5554, 5576, 5591],\n",
       "           dtype='int64', length=373)"
      ]
     },
     "execution_count": 145,
     "metadata": {},
     "output_type": "execute_result"
    }
   ],
   "source": [
    "data_depth[aykiri_tf].index"
   ]
  },
  {
   "cell_type": "code",
   "execution_count": 146,
   "metadata": {},
   "outputs": [
    {
     "data": {
      "text/plain": [
       "0       6.98\n",
       "1       9.15\n",
       "2       7.98\n",
       "3      16.05\n",
       "4       6.85\n",
       "       ...  \n",
       "207     7.02\n",
       "208     9.41\n",
       "209    21.70\n",
       "210    13.86\n",
       "211    65.60\n",
       "Name: Derinlik, Length: 212, dtype: float64"
      ]
     },
     "execution_count": 146,
     "metadata": {},
     "output_type": "execute_result"
    }
   ],
   "source": [
    "data_depth.head(212)"
   ]
  },
  {
   "cell_type": "code",
   "execution_count": 147,
   "metadata": {},
   "outputs": [],
   "source": [
    "data_depth[aykiri_tf] = ust_sinir"
   ]
  },
  {
   "cell_type": "code",
   "execution_count": 148,
   "metadata": {},
   "outputs": [
    {
     "data": {
      "text/plain": [
       "211     65.0\n",
       "278     65.0\n",
       "299     65.0\n",
       "352     65.0\n",
       "385     65.0\n",
       "        ... \n",
       "5516    65.0\n",
       "5534    65.0\n",
       "5554    65.0\n",
       "5576    65.0\n",
       "5591    65.0\n",
       "Name: Derinlik, Length: 373, dtype: float64"
      ]
     },
     "execution_count": 148,
     "metadata": {},
     "output_type": "execute_result"
    }
   ],
   "source": [
    "data_depth[aykiri_tf]"
   ]
  },
  {
   "cell_type": "code",
   "execution_count": 149,
   "metadata": {},
   "outputs": [
    {
     "data": {
      "image/png": "[encoded data removed]",
      "text/plain": [
       "<Figure size 432x288 with 1 Axes>"
      ]
     },
     "metadata": {
      "needs_background": "light"
     },
     "output_type": "display_data"
    }
   ],
   "source": [
    "sns.boxplot(x = data_depth);"
   ]
  },
  {
   "cell_type": "code",
   "execution_count": 150,
   "metadata": {},
   "outputs": [],
   "source": [
    "data_enlem = veri[\"Enlem\"]  "
   ]
  },
  {
   "cell_type": "code",
   "execution_count": 151,
   "metadata": {},
   "outputs": [
    {
     "data": {
      "image/png": "[encoded data removed]",
      "text/plain": [
       "<Figure size 432x288 with 1 Axes>"
      ]
     },
     "metadata": {
      "needs_background": "light"
     },
     "output_type": "display_data"
    }
   ],
   "source": [
    "sns.boxplot(x = data_enlem); "
   ]
  },
  {
   "cell_type": "code",
   "execution_count": 152,
   "metadata": {},
   "outputs": [],
   "source": [
    "data_boylam = veri[\"Boylam\"]  "
   ]
  },
  {
   "cell_type": "code",
   "execution_count": 153,
   "metadata": {},
   "outputs": [
    {
     "data": {
      "image/png": "[encoded data removed]",
      "text/plain": [
       "<Figure size 432x288 with 1 Axes>"
      ]
     },
     "metadata": {
      "needs_background": "light"
     },
     "output_type": "display_data"
    }
   ],
   "source": [
    "sns.boxplot(x = data_boylam); "
   ]
  },
  {
   "cell_type": "code",
   "execution_count": 154,
   "metadata": {},
   "outputs": [
    {
     "data": {
      "text/html": [
       "<div>\n",
       "<style scoped>\n",
       "    .dataframe tbody tr th:only-of-type {\n",
       "        vertical-align: middle;\n",
       "    }\n",
       "\n",
       "    .dataframe tbody tr th {\n",
       "        vertical-align: top;\n",
       "    }\n",
       "\n",
       "    .dataframe thead th {\n",
       "        text-align: right;\n",
       "    }\n",
       "</style>\n",
       "<table border=\"1\" class=\"dataframe\">\n",
       "  <thead>\n",
       "    <tr style=\"text-align: right;\">\n",
       "      <th></th>\n",
       "      <th>count</th>\n",
       "      <th>mean</th>\n",
       "      <th>std</th>\n",
       "      <th>min</th>\n",
       "      <th>25%</th>\n",
       "      <th>50%</th>\n",
       "      <th>75%</th>\n",
       "      <th>max</th>\n",
       "    </tr>\n",
       "  </thead>\n",
       "  <tbody>\n",
       "    <tr>\n",
       "      <td>Enlem</td>\n",
       "      <td>5596.0</td>\n",
       "      <td>38.485881</td>\n",
       "      <td>1.483263</td>\n",
       "      <td>36.0</td>\n",
       "      <td>37.127675</td>\n",
       "      <td>38.6383</td>\n",
       "      <td>39.44255</td>\n",
       "      <td>42.0000</td>\n",
       "    </tr>\n",
       "    <tr>\n",
       "      <td>Boylam</td>\n",
       "      <td>5596.0</td>\n",
       "      <td>33.157266</td>\n",
       "      <td>6.244439</td>\n",
       "      <td>26.0</td>\n",
       "      <td>27.865500</td>\n",
       "      <td>30.1585</td>\n",
       "      <td>39.29400</td>\n",
       "      <td>44.9943</td>\n",
       "    </tr>\n",
       "    <tr>\n",
       "      <td>Derinlik</td>\n",
       "      <td>5596.0</td>\n",
       "      <td>21.322813</td>\n",
       "      <td>17.867104</td>\n",
       "      <td>0.0</td>\n",
       "      <td>10.000000</td>\n",
       "      <td>13.0000</td>\n",
       "      <td>32.00000</td>\n",
       "      <td>65.0000</td>\n",
       "    </tr>\n",
       "    <tr>\n",
       "      <td>Büyüklük</td>\n",
       "      <td>5596.0</td>\n",
       "      <td>4.394282</td>\n",
       "      <td>0.418824</td>\n",
       "      <td>4.0</td>\n",
       "      <td>4.100000</td>\n",
       "      <td>4.3000</td>\n",
       "      <td>4.60000</td>\n",
       "      <td>7.6000</td>\n",
       "    </tr>\n",
       "  </tbody>\n",
       "</table>\n",
       "</div>"
      ],
      "text/plain": [
       "           count       mean        std   min        25%      50%       75%  \\\n",
       "Enlem     5596.0  38.485881   1.483263  36.0  37.127675  38.6383  39.44255   \n",
       "Boylam    5596.0  33.157266   6.244439  26.0  27.865500  30.1585  39.29400   \n",
       "Derinlik  5596.0  21.322813  17.867104   0.0  10.000000  13.0000  32.00000   \n",
       "Büyüklük  5596.0   4.394282   0.418824   4.0   4.100000   4.3000   4.60000   \n",
       "\n",
       "              max  \n",
       "Enlem     42.0000  \n",
       "Boylam    44.9943  \n",
       "Derinlik  65.0000  \n",
       "Büyüklük   7.6000  "
      ]
     },
     "execution_count": 154,
     "metadata": {},
     "output_type": "execute_result"
    }
   ],
   "source": [
    "veri.describe().transpose()"
   ]
  },
  {
   "cell_type": "code",
   "execution_count": 155,
   "metadata": {},
   "outputs": [],
   "source": [
    "import numpy as np #use numpy for y variable for Linear Regression\n",
    "y=np.array(veri['Büyüklük'])"
   ]
  },
  {
   "cell_type": "code",
   "execution_count": 156,
   "metadata": {},
   "outputs": [],
   "source": [
    "X=np.array(veri.drop('Büyüklük',axis=1))"
   ]
  },
  {
   "cell_type": "code",
   "execution_count": 189,
   "metadata": {},
   "outputs": [],
   "source": [
    "from sklearn.model_selection import train_test_split  #lets split data set\n",
    "X_train,X_test,y_train,y_test=train_test_split(X,y,test_size=0.2,random_state=42)"
   ]
  },
  {
   "cell_type": "code",
   "execution_count": 190,
   "metadata": {},
   "outputs": [],
   "source": [
    "linear=LinearRegression()"
   ]
  },
  {
   "cell_type": "code",
   "execution_count": 191,
   "metadata": {},
   "outputs": [
    {
     "data": {
      "text/plain": [
       "LinearRegression(copy_X=True, fit_intercept=True, n_jobs=None, normalize=False)"
      ]
     },
     "execution_count": 191,
     "metadata": {},
     "output_type": "execute_result"
    }
   ],
   "source": [
    "linear.fit(X_train,y_train)"
   ]
  },
  {
   "cell_type": "code",
   "execution_count": 192,
   "metadata": {},
   "outputs": [
    {
     "name": "stdout",
     "output_type": "stream",
     "text": [
      "0.05052439314457624\n"
     ]
    }
   ],
   "source": [
    "data=linear.score(X_test,y_test)  # score of test datas\n",
    "print(data)"
   ]
  },
  {
   "cell_type": "code",
   "execution_count": 193,
   "metadata": {},
   "outputs": [
    {
     "name": "stdout",
     "output_type": "stream",
     "text": [
      "0.03428226851825522\n"
     ]
    }
   ],
   "source": [
    "data=linear.score(X_train,y_train) #score of training datas\n",
    "print(data)"
   ]
  },
  {
   "cell_type": "code",
   "execution_count": 194,
   "metadata": {},
   "outputs": [
    {
     "name": "stdout",
     "output_type": "stream",
     "text": [
      "[4.30914889]\n"
     ]
    }
   ],
   "source": [
    "predict_data=np.array([[37.8720,26.9730,6.98]])   #kocaeli earthquake prediction is 4.05, quiet close to the real value\n",
    "data2=linear.predict(predict_data)\n",
    "print(data2)"
   ]
  },
  {
   "cell_type": "code",
   "execution_count": 195,
   "metadata": {},
   "outputs": [
    {
     "data": {
      "text/html": [
       "<div>\n",
       "<style scoped>\n",
       "    .dataframe tbody tr th:only-of-type {\n",
       "        vertical-align: middle;\n",
       "    }\n",
       "\n",
       "    .dataframe tbody tr th {\n",
       "        vertical-align: top;\n",
       "    }\n",
       "\n",
       "    .dataframe thead th {\n",
       "        text-align: right;\n",
       "    }\n",
       "</style>\n",
       "<table border=\"1\" class=\"dataframe\">\n",
       "  <thead>\n",
       "    <tr style=\"text-align: right;\">\n",
       "      <th></th>\n",
       "      <th>Enlem</th>\n",
       "      <th>Boylam</th>\n",
       "      <th>Derinlik</th>\n",
       "      <th>Büyüklük</th>\n",
       "    </tr>\n",
       "  </thead>\n",
       "  <tbody>\n",
       "    <tr>\n",
       "      <td>0</td>\n",
       "      <td>37.8720</td>\n",
       "      <td>26.9730</td>\n",
       "      <td>6.98</td>\n",
       "      <td>4.2</td>\n",
       "    </tr>\n",
       "    <tr>\n",
       "      <td>1</td>\n",
       "      <td>39.3793</td>\n",
       "      <td>40.7516</td>\n",
       "      <td>9.15</td>\n",
       "      <td>4.2</td>\n",
       "    </tr>\n",
       "    <tr>\n",
       "      <td>2</td>\n",
       "      <td>37.7753</td>\n",
       "      <td>27.0506</td>\n",
       "      <td>7.98</td>\n",
       "      <td>4.0</td>\n",
       "    </tr>\n",
       "    <tr>\n",
       "      <td>3</td>\n",
       "      <td>37.9090</td>\n",
       "      <td>26.4931</td>\n",
       "      <td>16.05</td>\n",
       "      <td>4.1</td>\n",
       "    </tr>\n",
       "    <tr>\n",
       "      <td>4</td>\n",
       "      <td>37.9133</td>\n",
       "      <td>26.5003</td>\n",
       "      <td>6.85</td>\n",
       "      <td>4.2</td>\n",
       "    </tr>\n",
       "  </tbody>\n",
       "</table>\n",
       "</div>"
      ],
      "text/plain": [
       "     Enlem   Boylam  Derinlik  Büyüklük\n",
       "0  37.8720  26.9730      6.98       4.2\n",
       "1  39.3793  40.7516      9.15       4.2\n",
       "2  37.7753  27.0506      7.98       4.0\n",
       "3  37.9090  26.4931     16.05       4.1\n",
       "4  37.9133  26.5003      6.85       4.2"
      ]
     },
     "execution_count": 195,
     "metadata": {},
     "output_type": "execute_result"
    }
   ],
   "source": [
    "veri.head()"
   ]
  },
  {
   "cell_type": "code",
   "execution_count": null,
   "metadata": {},
   "outputs": [],
   "source": []
  }
 ],
 "metadata": {
  "kernelspec": {
   "display_name": "Python 3",
   "language": "python",
   "name": "python3"
  },
  "language_info": {
   "codemirror_mode": {
    "name": "ipython",
    "version": 3
   },
   "file_extension": ".py",
   "mimetype": "text/x-python",
   "name": "python",
   "nbconvert_exporter": "python",
   "pygments_lexer": "ipython3",
   "version": "3.7.4"
  }
 },
 "nbformat": 4,
 "nbformat_minor": 2
}
